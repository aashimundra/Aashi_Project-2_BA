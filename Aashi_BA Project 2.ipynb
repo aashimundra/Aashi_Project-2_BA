{
 "cells": [
  {
   "cell_type": "code",
   "execution_count": 2,
   "id": "9c469c2e",
   "metadata": {},
   "outputs": [],
   "source": [
    "# Importing Libraries\n",
    "\n",
    "import pandas as pd\n",
    "from sklearn.model_selection import train_test_split\n",
    "from sklearn.preprocessing import LabelEncoder\n",
    "from sklearn.preprocessing import OneHotEncoder\n",
    "from xgboost import XGBClassifier\n",
    "from sklearn.metrics import classification_report, confusion_matrix\n",
    "from sklearn.compose import ColumnTransformer\n",
    "from sklearn import preprocessing\n",
    "from sklearn.metrics import ConfusionMatrixDisplay\n",
    "import xgboost as xgb\n",
    "from sklearn.metrics import confusion_matrix\n",
    "import numpy as np"
   ]
  },
  {
   "cell_type": "code",
   "execution_count": 3,
   "id": "1048b5c8",
   "metadata": {},
   "outputs": [],
   "source": [
    "data= pd.read_csv(\"C:/Users/aashi/Downloads/complaints_25Nov21.csv\")"
   ]
  },
  {
   "cell_type": "code",
   "execution_count": 20,
   "id": "1a3e758f",
   "metadata": {},
   "outputs": [
    {
     "name": "stderr",
     "output_type": "stream",
     "text": [
      "C:\\Users\\aashi\\AppData\\Local\\Temp\\ipykernel_3816\\2915480030.py:5: SettingWithCopyWarning: \n",
      "A value is trying to be set on a copy of a slice from a DataFrame\n",
      "\n",
      "See the caveats in the documentation: https://pandas.pydata.org/pandas-docs/stable/user_guide/indexing.html#returning-a-view-versus-a-copy\n",
      "  X.fillna('unknown', inplace = True)\n"
     ]
    },
    {
     "name": "stdout",
     "output_type": "stream",
     "text": [
      "Proportion of consumers who raised a dispute in the test set: 21.59%\n"
     ]
    }
   ],
   "source": [
    "# Set your X (predictor) and y (predicted) variables\n",
    "selected_features = ['Product', 'Sub-product', 'Issue', 'State', 'Tags', 'Submitted via',\n",
    "                     'Company response to consumer', 'Timely response?']\n",
    "X = data[selected_features]\n",
    "X.fillna('unknown', inplace = True)\n",
    "le = LabelEncoder()\n",
    "y = le.fit_transform(data['Consumer disputed?'])\n",
    "\n",
    "# One-hot encode categorical features\n",
    "X_encoded = pd.get_dummies(X, columns=selected_features)\n",
    "\n",
    "# Split the data into a test and train set (80/20 split)\n",
    "X_train, X_test, y_train, y_test = train_test_split(X_encoded, y, test_size=0.2, random_state=123)\n",
    "\n",
    "# Calculate the proportion of consumers who raised a dispute in the test set\n",
    "proportion_disputed_test = sum(y_test) / len(y_test)\n",
    "print(\"Proportion of consumers who raised a dispute in the test set: {:.2f}%\".format(proportion_disputed_test * 100))"
   ]
  },
  {
   "cell_type": "code",
   "execution_count": 5,
   "id": "363e8947",
   "metadata": {},
   "outputs": [
    {
     "data": {
      "text/plain": [
       "0.5"
      ]
     },
     "execution_count": 5,
     "metadata": {},
     "output_type": "execute_result"
    }
   ],
   "source": [
    "# Find the number of samples in the minority class (disputed complaints)\n",
    "minority_class_size = np.sum(y_train == 1)\n",
    "\n",
    "# Perform undersampling manually\n",
    "# First, find the indices of the majority and minority classes\n",
    "majority_class_indices = np.where(y_train == 0)[0]\n",
    "minority_class_indices = np.where(y_train == 1)[0]\n",
    "\n",
    "# Now randomly sample from the majority class to get a sample size equal to the minority class size\n",
    "np.random.seed(123)  # Set the random seed for reproducibility\n",
    "random_majority_indices = np.random.choice(majority_class_indices,\n",
    "                                           minority_class_size,\n",
    "                                           replace=False)\n",
    "\n",
    "# Combine the majority and minority class indices after undersampling\n",
    "undersampled_indices = np.concatenate([minority_class_indices, random_majority_indices])\n",
    "\n",
    "# Slice the training data to get the balanced dataset\n",
    "X_train_balanced = X_train.iloc[undersampled_indices]\n",
    "y_train_balanced = y_train[undersampled_indices]\n",
    "\n",
    "# Calculate the proportion of disputes in the balanced training set\n",
    "dispute_proportion_training_balanced = y_train_balanced.mean()\n",
    "dispute_proportion_training_balanced"
   ]
  },
  {
   "cell_type": "code",
   "execution_count": 13,
   "id": "a09ae296",
   "metadata": {},
   "outputs": [
    {
     "name": "stdout",
     "output_type": "stream",
     "text": [
      "Estimated total cost without a model : $8619200.00\n"
     ]
    }
   ],
   "source": [
    "# Define a function to calculate the cost of dealing with a complaint\n",
    "def calculate_complaint_cost(complaint_row):\n",
    "    # Replace this with your logic to calculate the cost\n",
    "    # Example: if a complaint is costly and you have a cost associated with it\n",
    "    if complaint_row['Consumer disputed?'] == 'Yes':\n",
    "        return 600  # Replace 100 with the actual cost\n",
    "    else:\n",
    "        return 100  # Replace 50 with the actual cost for other complaints\n",
    "\n",
    "# Apply the function to each complaint in the test set\n",
    "test_set = data.sample(frac=0.2, random_state=123)  # Assuming a 20% test set split\n",
    "test_set['Complaint Cost'] = test_set.apply(calculate_complaint_cost, axis=1)\n",
    "\n",
    "# Calculate the total cost\n",
    "cost_without_model = test_set['Complaint Cost'].sum()\n",
    "\n",
    "print(f\"Estimated total cost without a model : ${cost_without_model:.2f}\")"
   ]
  },
  {
   "cell_type": "code",
   "execution_count": 21,
   "id": "bdfe732b",
   "metadata": {},
   "outputs": [
    {
     "name": "stdout",
     "output_type": "stream",
     "text": [
      "              precision    recall  f1-score   support\n",
      "\n",
      "           0       0.78      1.00      0.88     32504\n",
      "           1       0.49      0.00      0.01      8948\n",
      "\n",
      "    accuracy                           0.78     41452\n",
      "   macro avg       0.64      0.50      0.44     41452\n",
      "weighted avg       0.72      0.78      0.69     41452\n",
      "\n"
     ]
    }
   ],
   "source": [
    "# Train a predictive model using XGBoost Classifier\n",
    "model_xgb = XGBClassifier(random_state=123)\n",
    "model_xgb.fit(X_train, y_train)\n",
    "\n",
    "# Evaluate the model on the test set and calculate recall\n",
    "y_pred = model_xgb.predict(X_test)\n",
    "\n",
    "print(classification_report(y_test, y_pred))"
   ]
  },
  {
   "cell_type": "code",
   "execution_count": 24,
   "id": "112df4ed",
   "metadata": {},
   "outputs": [
    {
     "name": "stdout",
     "output_type": "stream",
     "text": [
      "[[32463    41]\n",
      " [ 8909    39]]\n",
      "Total cost to the banks of dealing with the complaints in the test set: $8606900\n"
     ]
    },
    {
     "data": {
      "image/png": "[encoded data removed]",
      "text/plain": [
       "<Figure size 432x288 with 2 Axes>"
      ]
     },
     "metadata": {
      "needs_background": "light"
     },
     "output_type": "display_data"
    }
   ],
   "source": [
    "# Define cost structure\n",
    "base_cost = 100  # Initial cost for every complaint\n",
    "extra_diligence_cost = 90  # Cost for extra diligence\n",
    "disputed_cost = 600  # Cost if a complaint is disputed\n",
    "\n",
    "# Calculate the confusion matrix\n",
    "confusion = confusion_matrix(y_test, y_pred)\n",
    "\n",
    "# Calculate total cost\n",
    "true_positives, false_positives, false_negatives, true_negatives  = confusion.ravel()\n",
    "\n",
    "total_cost = (\n",
    "    ((true_negatives + false_positives) * (base_cost + extra_diligence_cost)) +  # Non-disputed complaints\n",
    "    (false_negatives * (disputed_cost)) +  # Predicted disputes with extra diligence\n",
    "    (true_positives * base_cost)  # Predicted disputes without extra diligence\n",
    ")\n",
    "\n",
    "print(confusion)\n",
    "ConfusionMatrixDisplay.from_estimator(model_xgb, X_test, y_test)\n",
    "\n",
    "print(f\"Total cost to the banks of dealing with the complaints in the test set: ${total_cost}\")"
   ]
  },
  {
   "cell_type": "code",
   "execution_count": 25,
   "id": "76918e74",
   "metadata": {},
   "outputs": [
    {
     "name": "stdout",
     "output_type": "stream",
     "text": [
      "Best threshold for the lowest total cost: 0.17\n",
      "Lowest total cost: $7596570\n"
     ]
    }
   ],
   "source": [
    "# Initialize variables to keep track of the best threshold and lowest cost\n",
    "best_threshold = 0\n",
    "lowest_cost = float('inf')\n",
    "\n",
    "# Iterate through different threshold values\n",
    "for threshold in np.linspace(0, 1, 101):  # Adjust the range and granularity as needed\n",
    "    # Make predictions on the test set\n",
    "    y_prob = model_xgb.predict_proba(X_test)\n",
    "    # We drop the probabilities for class 0, and keep just the second column\n",
    "    y_prob = y_prob[:,1]\n",
    "    y_pred = (y_prob >= threshold).astype(int)  # Predict using the threshold\n",
    "\n",
    "    # Calculate the confusion matrix\n",
    "    confusion = confusion_matrix(y_test, y_pred)\n",
    "\n",
    "    # Calculate total cost\n",
    "    tn, fp, fn, tp = confusion.ravel()\n",
    "    total_cost = ((tn*100) + ((tp+fp)*(100+90)) + (fn*600))\n",
    "\n",
    "    # Check if this threshold results in a lower cost\n",
    "    if total_cost < lowest_cost:\n",
    "        lowest_cost = total_cost\n",
    "        best_threshold = threshold\n",
    "\n",
    "print(f\"Best threshold for the lowest total cost: {best_threshold}\")\n",
    "print(f\"Lowest total cost: ${lowest_cost}\")"
   ]
  },
  {
   "cell_type": "code",
   "execution_count": null,
   "id": "800c8e9d",
   "metadata": {},
   "outputs": [],
   "source": []
  }
 ],
 "metadata": {
  "kernelspec": {
   "display_name": "Python 3 (ipykernel)",
   "language": "python",
   "name": "python3"
  },
  "language_info": {
   "codemirror_mode": {
    "name": "ipython",
    "version": 3
   },
   "file_extension": ".py",
   "mimetype": "text/x-python",
   "name": "python",
   "nbconvert_exporter": "python",
   "pygments_lexer": "ipython3",
   "version": "3.9.12"
  }
 },
 "nbformat": 4,
 "nbformat_minor": 5
}
